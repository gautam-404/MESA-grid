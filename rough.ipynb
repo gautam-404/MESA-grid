{
 "cells": [
  {
   "cell_type": "code",
   "execution_count": 26,
   "metadata": {},
   "outputs": [],
   "source": [
    "import glob\n",
    "import numpy as np\n",
    "import raygrid"
   ]
  },
  {
   "cell_type": "code",
   "execution_count": 25,
   "metadata": {},
   "outputs": [
    {
     "data": {
      "text/plain": [
       "[]"
      ]
     },
     "execution_count": 25,
     "metadata": {},
     "output_type": "execute_result"
    }
   ],
   "source": [
    "num = np.arange(1, 2509).astype(int).tolist()\n",
    "files = glob.glob(\"grid_archive/gyre/*\")\n",
    "done = []\n",
    "for f in files:\n",
    "    num_i = int(f.split('/')[-1].split('.')[0].split('_')[-1])\n",
    "    done.append(num_i)\n",
    "list(set(num) - set(done))\n",
    "    "
   ]
  },
  {
   "cell_type": "code",
   "execution_count": 39,
   "metadata": {},
   "outputs": [],
   "source": [
    "masses, metallicities, v_surf_init_list = raygrid.init_grid(testrun=\"grid\")\n",
    "tracks = np.arange(1, 2509).astype(int)\n",
    "stack = np.vstack((tracks, masses, metallicities, v_surf_init_list)).T\n",
    "np.savetxt(\"track_index.dat\", stack, fmt=\"%i\\t\\t\\t%0.3f\\t\\t\\t%0.3f\\t\\t\\t%0.1f\")"
   ]
  },
  {
   "cell_type": "code",
   "execution_count": null,
   "metadata": {},
   "outputs": [],
   "source": []
  },
  {
   "cell_type": "code",
   "execution_count": null,
   "metadata": {},
   "outputs": [],
   "source": []
  }
 ],
 "metadata": {
  "kernelspec": {
   "display_name": "Python 3",
   "language": "python",
   "name": "python3"
  },
  "language_info": {
   "codemirror_mode": {
    "name": "ipython",
    "version": 3
   },
   "file_extension": ".py",
   "mimetype": "text/x-python",
   "name": "python",
   "nbconvert_exporter": "python",
   "pygments_lexer": "ipython3",
   "version": "3.11.0"
  },
  "orig_nbformat": 4
 },
 "nbformat": 4,
 "nbformat_minor": 2
}
